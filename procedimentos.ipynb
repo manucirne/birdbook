{
 "cells": [
  {
   "cell_type": "code",
   "execution_count": 29,
   "metadata": {},
   "outputs": [],
   "source": [
    "import pymysql\n",
    "from functools import partial\n",
    "\n",
    "def run_db_query(connection, query, args=None):\n",
    "    with connection.cursor() as cursor:\n",
    "        print('Executando query:')\n",
    "        cursor.execute(query, args)\n",
    "        for result in cursor:\n",
    "            print(result)\n",
    "\n",
    "connection = pymysql.connect(\n",
    "    host='localhost',\n",
    "    user='megadados',\n",
    "    password='12345',\n",
    "    database='birdbook')\n",
    "cursor = connection.cursor()\n",
    "db = partial(run_db_query, connection)"
   ]
  },
  {
   "cell_type": "markdown",
   "metadata": {},
   "source": [
    "```SQL\n",
    "USE birdbook;\n",
    "\n",
    "DROP PROCEDURE IF EXISTS adiciona_post;\n",
    "\n",
    "DELIMITER //\n",
    "CREATE PROCEDURE adiciona_post(IN novo_titulo VARCHAR(80), IN novo_texto VARCHAR(80))\n",
    "BEGIN\n",
    "    INSERT INTO POST (titulo, texto) VALUES (novo_titulo, novo_texto);\n",
    "END//\n",
    "DELIMITER ;```"
   ]
  },
  {
   "cell_type": "code",
   "execution_count": 129,
   "metadata": {},
   "outputs": [],
   "source": [
    "def parser_post(texto):\n",
    "    lista_texto = texto.split(' ')\n",
    "    lista_passaros = []\n",
    "    lista_citados = []\n",
    "    for item in lista_texto:\n",
    "        if item[0] == '#':\n",
    "            lista_passaros.append(item[1:])\n",
    "        if item[0] == '@':\n",
    "            lista_citados.append(item[1:])\n",
    "    return {\"#\": lista_passaros, \"@\": lista_citados}\n",
    "\n",
    "def insere_post(cursor, novotitulo, novotexto, novaURL_foto):\n",
    "    cursor.execute('''\n",
    "        INSERT INTO POST(titulo, texto, URL_foto)\n",
    "        VALUES(%s,%s,%s)\n",
    "    ''', (novotitulo, novotexto, novaURL_foto))\n",
    "    cursor.execute('''\n",
    "        SELECT LAST_INSERT_ID()\n",
    "            FROM POST\n",
    "     ''')\n",
    "    return cursor.fetchone()[0]\n",
    "\n",
    "def cria_tags(cursor,dici_tags, id_post):\n",
    "    resp = {}\n",
    "    resp_pes = {}\n",
    "    if '#' in dici_tags:\n",
    "        for item in dici_tags[\"#\"]:\n",
    "            resp[item] = 0\n",
    "        for item in dici_tags[\"#\"]:\n",
    "            print(item)\n",
    "            cursor.execute('''\n",
    "                SELECT COUNT(tag_PASSARO) FROM PASSARO\n",
    "                WHERE tag_PASSARO = %s; \n",
    "            ''',(item))\n",
    "            resp[item] += cursor.fetchone()[0]\n",
    "        for pas in resp:\n",
    "            if resp[pas] > 0:\n",
    "                cursor.execute('''\n",
    "                INSERT INTO TAG_PASSARO_POST (idPost,tag_PASSARO)\n",
    "                VALUES(%s,%s)\n",
    "                ''',(id_post,pas))\n",
    "                \n",
    "    if '@' in dici_tags:\n",
    "        for item in dici_tags[\"@\"]:\n",
    "            resp_pes[item] = 0\n",
    "        for item in dici_tags[\"@\"]:\n",
    "            print(item)\n",
    "            cursor.execute('''\n",
    "                SELECT COUNT(username) FROM USUARIO\n",
    "                WHERE username = %s; \n",
    "            ''',(item))\n",
    "            resp_pes[item] += cursor.fetchone()[0]\n",
    "        for usu in resp_pes:\n",
    "            if resp_pes[usu] > 0:\n",
    "                cursor.execute('''\n",
    "                INSERT INTO TAG_USUARIO_POST (idPost,username)\n",
    "                VALUES(%s,%s)\n",
    "                ''',(id_post,usu))"
   ]
  },
  {
   "cell_type": "code",
   "execution_count": 126,
   "metadata": {
    "scrolled": false
   },
   "outputs": [
    {
     "name": "stdout",
     "output_type": "stream",
     "text": [
      "piri\n",
      "pas\n",
      "teste\n",
      "pessoa\n",
      "conts usuario 1\n",
      "conts usuario 1\n",
      "conts usuario 1\n",
      "31\n"
     ]
    }
   ],
   "source": [
    "texto = \"@pessoa #piri #pas #teste\"\n",
    "idpost = insere_post(cursor,\"manu\",texto,\"Null\")\n",
    "dici_tags = parser_post(texto)\n",
    "cria_tags(cursor,dici_tags, idpost)\n",
    "print(idpost)"
   ]
  },
  {
   "cell_type": "code",
   "execution_count": 124,
   "metadata": {},
   "outputs": [
    {
     "name": "stdout",
     "output_type": "stream",
     "text": [
      "Executando query:\n",
      "Executando query:\n"
     ]
    }
   ],
   "source": [
    "db('''\n",
    "INSERT INTO CIDADE (cidade) VALUES('sao paulo')''')\n",
    "db('''\n",
    "INSERT INTO USUARIO (username, email, nome, cidade) VALUES('pessoa','pesso@pessoa','pessoainha mm','sao paulo')''')"
   ]
  },
  {
   "cell_type": "code",
   "execution_count": 123,
   "metadata": {},
   "outputs": [
    {
     "name": "stdout",
     "output_type": "stream",
     "text": [
      "Executando query:\n",
      "('cidade', 'varchar(45)', 'NO', 'PRI', None, '')\n"
     ]
    }
   ],
   "source": [
    "db('''DESCRIBE CIDADE''')"
   ]
  },
  {
   "cell_type": "code",
   "execution_count": 96,
   "metadata": {},
   "outputs": [
    {
     "name": "stdout",
     "output_type": "stream",
     "text": [
      "((1,),)\n"
     ]
    }
   ],
   "source": [
    "print(teste)"
   ]
  },
  {
   "cell_type": "code",
   "execution_count": 127,
   "metadata": {},
   "outputs": [
    {
     "name": "stdout",
     "output_type": "stream",
     "text": [
      "Executando query:\n",
      "('pessoa', 31)\n"
     ]
    }
   ],
   "source": [
    "db('SELECT * FROM TAG_USUARIO_POST')"
   ]
  },
  {
   "cell_type": "code",
   "execution_count": 44,
   "metadata": {},
   "outputs": [
    {
     "name": "stdout",
     "output_type": "stream",
     "text": [
      "Executando query:\n"
     ]
    }
   ],
   "source": [
    "db('ROLLBACK')"
   ]
  },
  {
   "cell_type": "code",
   "execution_count": 28,
   "metadata": {},
   "outputs": [],
   "source": [
    "connection.close()"
   ]
  },
  {
   "cell_type": "code",
   "execution_count": 128,
   "metadata": {},
   "outputs": [
    {
     "data": {
      "text/plain": [
       "{'piri': 1, 'pas': 1, 'teste': 1}"
      ]
     },
     "execution_count": 128,
     "metadata": {},
     "output_type": "execute_result"
    }
   ],
   "source": [
    "teste"
   ]
  },
  {
   "cell_type": "code",
   "execution_count": null,
   "metadata": {},
   "outputs": [],
   "source": []
  }
 ],
 "metadata": {
  "kernelspec": {
   "display_name": "Python 3",
   "language": "python",
   "name": "python3"
  },
  "language_info": {
   "codemirror_mode": {
    "name": "ipython",
    "version": 3
   },
   "file_extension": ".py",
   "mimetype": "text/x-python",
   "name": "python",
   "nbconvert_exporter": "python",
   "pygments_lexer": "ipython3",
   "version": "3.7.4"
  }
 },
 "nbformat": 4,
 "nbformat_minor": 2
}
